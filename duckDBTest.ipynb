{
 "cells": [
  {
   "cell_type": "code",
   "execution_count": null,
   "id": "2518c308",
   "metadata": {},
   "outputs": [
    {
     "data": {
      "text/plain": [
       "<duckdb.duckdb.DuckDBPyConnection at 0x27a7cfd8030>"
      ]
     },
     "execution_count": 1,
     "metadata": {},
     "output_type": "execute_result"
    }
   ],
   "source": [
    "import duckdb\n",
    "import geopandas as gpd\n",
    "import pandas as pd\n",
    "from shapely import wkt\n",
    "\n",
    "con = duckdb.connect(\"my_geodata.duckdb\")\n"
   ]
  },
  {
   "cell_type": "code",
   "execution_count": null,
   "id": "ff11f010",
   "metadata": {},
   "outputs": [
    {
     "name": "stderr",
     "output_type": "stream",
     "text": [
      "<>:1: SyntaxWarning: invalid escape sequence '\\H'\n",
      "<>:3: SyntaxWarning: invalid escape sequence '\\8'\n",
      "<>:4: SyntaxWarning: invalid escape sequence '\\8'\n",
      "<>:5: SyntaxWarning: invalid escape sequence '\\8'\n",
      "<>:6: SyntaxWarning: invalid escape sequence '\\8'\n",
      "<>:1: SyntaxWarning: invalid escape sequence '\\H'\n",
      "<>:3: SyntaxWarning: invalid escape sequence '\\8'\n",
      "<>:4: SyntaxWarning: invalid escape sequence '\\8'\n",
      "<>:5: SyntaxWarning: invalid escape sequence '\\8'\n",
      "<>:6: SyntaxWarning: invalid escape sequence '\\8'\n",
      "C:\\Users\\peers\\AppData\\Local\\Temp\\ipykernel_25380\\2463370461.py:1: SyntaxWarning: invalid escape sequence '\\H'\n",
      "  path_potenzial = \"..\\Hackathon-Daten\\Datenquellen\\Solarpotenzial\"\n",
      "C:\\Users\\peers\\AppData\\Local\\Temp\\ipykernel_25380\\2463370461.py:3: SyntaxWarning: invalid escape sequence '\\8'\n",
      "  \"\\8311_Solarpotenzial_Dachseiten_Freiburg_Stadt\\Solarpotenziale_Dachseiten_Freiburg_Stadt.shp\",\n",
      "C:\\Users\\peers\\AppData\\Local\\Temp\\ipykernel_25380\\2463370461.py:4: SyntaxWarning: invalid escape sequence '\\8'\n",
      "  \"\\8315_Solarpotenzial_Dachseiten_Breisgau_Hochschwarzwald\\Solarpotenziale_Dachseiten_LK_Breisgau_Hochschwarzwald.shp\",\n",
      "C:\\Users\\peers\\AppData\\Local\\Temp\\ipykernel_25380\\2463370461.py:5: SyntaxWarning: invalid escape sequence '\\8'\n",
      "  \"\\8316_Solarpotenzial_Dachseiten_Emmendingen\\Solarpotenziale_Dachseiten_LK_Emmendingen.shp\",\n",
      "C:\\Users\\peers\\AppData\\Local\\Temp\\ipykernel_25380\\2463370461.py:6: SyntaxWarning: invalid escape sequence '\\8'\n",
      "  \"\\8337_Solarpotenzial_Dachseiten_Waldshut\\Solarpotenziale_Dachseiten_LK_Waldshut.shp\"\n"
     ]
    },
    {
     "ename": "CatalogException",
     "evalue": "Catalog Error: Table with name \"my_layer0\" already exists!",
     "output_type": "error",
     "traceback": [
      "\u001b[31m---------------------------------------------------------------------------\u001b[39m",
      "\u001b[31mCatalogException\u001b[39m                          Traceback (most recent call last)",
      "\u001b[36mCell\u001b[39m\u001b[36m \u001b[39m\u001b[32mIn[20]\u001b[39m\u001b[32m, line 18\u001b[39m\n\u001b[32m     15\u001b[39m i=\u001b[32m0\u001b[39m\n\u001b[32m     16\u001b[39m \u001b[38;5;28;01mfor\u001b[39;00m shp \u001b[38;5;129;01min\u001b[39;00m list_potenzial_shps:\n\u001b[32m     17\u001b[39m     \u001b[38;5;66;03m# Read Shapefile directly using DuckDB's ST_Read\u001b[39;00m\n\u001b[32m---> \u001b[39m\u001b[32m18\u001b[39m     \u001b[43mcon\u001b[49m\u001b[43m.\u001b[49m\u001b[43mexecute\u001b[49m\u001b[43m(\u001b[49m\u001b[33;43mf\u001b[39;49m\u001b[33;43m\"\"\"\u001b[39;49m\n\u001b[32m     19\u001b[39m \u001b[33;43m        CREATE TABLE my_layer\u001b[39;49m\u001b[38;5;132;43;01m{\u001b[39;49;00m\u001b[43mi\u001b[49m\u001b[38;5;132;43;01m}\u001b[39;49;00m\u001b[33;43m AS\u001b[39;49m\n\u001b[32m     20\u001b[39m \u001b[33;43m        SELECT * FROM ST_Read(\u001b[39;49m\u001b[33;43m'\u001b[39;49m\u001b[38;5;132;43;01m{\u001b[39;49;00m\u001b[43mpath_potenzial\u001b[49m\u001b[43m+\u001b[49m\u001b[43mshp\u001b[49m\u001b[38;5;132;43;01m}\u001b[39;49;00m\u001b[33;43m'\u001b[39;49m\u001b[33;43m);\u001b[39;49m\n\u001b[32m     21\u001b[39m \u001b[33;43m    \u001b[39;49m\u001b[33;43m\"\"\"\u001b[39;49m\u001b[43m)\u001b[49m\n\u001b[32m     22\u001b[39m     i+=\u001b[32m1\u001b[39m\n\u001b[32m     24\u001b[39m \u001b[38;5;66;03m# Done! This table is now saved in `my_geodata.duckdb`\u001b[39;00m\n",
      "\u001b[31mCatalogException\u001b[39m: Catalog Error: Table with name \"my_layer0\" already exists!"
     ]
    }
   ],
   "source": [
    "\n",
    "\n",
    "\n",
    "path_potenzial = \"..\\Hackathon-Daten\\Datenquellen\\Solarpotenzial\"\n",
    "list_potenzial_shps = [\n",
    "    \"\\8311_Solarpotenzial_Dachseiten_Freiburg_Stadt\\Solarpotenziale_Dachseiten_Freiburg_Stadt.shp\",\n",
    "    \"\\8315_Solarpotenzial_Dachseiten_Breisgau_Hochschwarzwald\\Solarpotenziale_Dachseiten_LK_Breisgau_Hochschwarzwald.shp\",\n",
    "    \"\\8316_Solarpotenzial_Dachseiten_Emmendingen\\Solarpotenziale_Dachseiten_LK_Emmendingen.shp\",\n",
    "    \"\\8337_Solarpotenzial_Dachseiten_Waldshut\\Solarpotenziale_Dachseiten_LK_Waldshut.shp\"\n",
    "]\n",
    "\n",
    "\n",
    "\n",
    "# Load spatial extension\n",
    "con.execute(\"INSTALL spatial;\")\n",
    "con.execute(\"LOAD spatial;\")\n",
    "i=0\n",
    "for shp in list_potenzial_shps:\n",
    "    # Read Shapefile directly using DuckDB's ST_Read\n",
    "    con.execute(f\"\"\"\n",
    "        CREATE TABLE my_layer{i} AS\n",
    "        SELECT * FROM ST_Read('{path_potenzial+shp}');\n",
    "    \"\"\")\n",
    "    i+=1\n",
    "    "
   ]
  },
  {
   "cell_type": "code",
   "execution_count": 23,
   "id": "83ca7f1f",
   "metadata": {},
   "outputs": [
    {
     "name": "stdout",
     "output_type": "stream",
     "text": [
      "   OBJECTID  BuildingID  RoofID  Slope  Aspect   RoofType     Power  Eignung  \\\n",
      "0         1         835       0  13.80   17.77  Flachdach  7.012784        3   \n",
      "1         2        1105       1   3.08  260.64  Flachdach  0.000000        6   \n",
      "2         3        1437       0  10.04  312.92  Flachdach  1.594171        3   \n",
      "3         4        1522       0  45.40  308.69  Spitzdach  0.000000        6   \n",
      "4         5        1522       1  45.85  128.73  Spitzdach  2.136499        1   \n",
      "\n",
      "   Aufstd  Geplex_Dac  ...  GEMEINDE_N            LANGNAME  KREIS_NR  \\\n",
      "0       0       42.36  ...   8315076.0  Neuenburg am Rhein    8315.0   \n",
      "1       1       11.82  ...   8315076.0  Neuenburg am Rhein    8315.0   \n",
      "2       0       17.10  ...   8315050.0         Heitersheim    8315.0   \n",
      "3       0       10.49  ...   8315033.0            Eschbach    8315.0   \n",
      "4       0       10.42  ...   8315033.0            Eschbach    8315.0   \n",
      "\n",
      "                      KREIS  ElevationS  JAHR                HERKUNFT  \\\n",
      "0  Breisgau-Hochschwarzwald   2016-2021  2021  LUBW, Geoplex GIS GmbH   \n",
      "1  Breisgau-Hochschwarzwald   2016-2021  2021  LUBW, Geoplex GIS GmbH   \n",
      "2  Breisgau-Hochschwarzwald   2016-2021  2021  LUBW, Geoplex GIS GmbH   \n",
      "3  Breisgau-Hochschwarzwald   2016-2021  2021  LUBW, Geoplex GIS GmbH   \n",
      "4  Breisgau-Hochschwarzwald   2016-2021  2021  LUBW, Geoplex GIS GmbH   \n",
      "\n",
      "   Shape_Leng  Shape_Area                                               geom  \n",
      "0   26.114639   42.357000  [2, 4, 0, 0, 0, 0, 0, 0, 76, 166, 192, 72, 245...  \n",
      "1   16.186328   11.822874  [2, 4, 0, 0, 0, 0, 0, 0, 85, 154, 192, 72, 191...  \n",
      "2   16.855661   17.102240  [2, 4, 0, 0, 0, 0, 0, 0, 135, 56, 195, 72, 93,...  \n",
      "3   16.180899   10.488113  [2, 4, 0, 0, 0, 0, 0, 0, 240, 56, 195, 72, 179...  \n",
      "4   16.173709   10.416264  [2, 4, 0, 0, 0, 0, 0, 0, 26, 57, 195, 72, 177,...  \n",
      "\n",
      "[5 rows x 34 columns]\n"
     ]
    }
   ],
   "source": [
    "\n",
    "df = con.execute(\"SELECT * FROM my_layer1 LIMIT 5\").fetchdf()\n",
    "print(df.head())"
   ]
  },
  {
   "cell_type": "code",
   "execution_count": null,
   "id": "3c73b54d",
   "metadata": {},
   "outputs": [
    {
     "ename": "IOException",
     "evalue": "IO Error: Cannot open file \"C:\\schema.sql\": Zugriff verweigert\r\n",
     "output_type": "error",
     "traceback": [
      "\u001b[31m---------------------------------------------------------------------------\u001b[39m",
      "\u001b[31mIOException\u001b[39m                               Traceback (most recent call last)",
      "\u001b[36mCell\u001b[39m\u001b[36m \u001b[39m\u001b[32mIn[14]\u001b[39m\u001b[32m, line 1\u001b[39m\n\u001b[32m----> \u001b[39m\u001b[32m1\u001b[39m \u001b[43mcon\u001b[49m\u001b[43m.\u001b[49m\u001b[43mexecute\u001b[49m\u001b[43m(\u001b[49m\u001b[33;43m\"\u001b[39;49m\u001b[33;43mEXPORT DATABASE \u001b[39;49m\u001b[33;43m'\u001b[39;49m\u001b[33;43mC:\u001b[39;49m\u001b[38;5;130;43;01m\\'\u001b[39;49;00m\u001b[33;43m;\u001b[39;49m\u001b[33;43m\"\u001b[39;49m\u001b[43m)\u001b[49m\n",
      "\u001b[31mIOException\u001b[39m: IO Error: Cannot open file \"C:\\schema.sql\": Zugriff verweigert\r\n"
     ]
    }
   ],
   "source": []
  },
  {
   "cell_type": "code",
   "execution_count": null,
   "id": "f1010058",
   "metadata": {},
   "outputs": [],
   "source": []
  }
 ],
 "metadata": {
  "kernelspec": {
   "display_name": "Python 3",
   "language": "python",
   "name": "python3"
  },
  "language_info": {
   "codemirror_mode": {
    "name": "ipython",
    "version": 3
   },
   "file_extension": ".py",
   "mimetype": "text/x-python",
   "name": "python",
   "nbconvert_exporter": "python",
   "pygments_lexer": "ipython3",
   "version": "3.12.9"
  }
 },
 "nbformat": 4,
 "nbformat_minor": 5
}
