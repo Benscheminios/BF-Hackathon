{
 "cells": [
  {
   "cell_type": "code",
   "execution_count": 1,
   "id": "3e8b5bfe",
   "metadata": {},
   "outputs": [],
   "source": [
    "import duckdb"
   ]
  },
  {
   "cell_type": "code",
   "execution_count": 2,
   "id": "ffc6ba50",
   "metadata": {},
   "outputs": [
    {
     "data": {
      "text/plain": [
       "<duckdb.duckdb.DuckDBPyConnection at 0x222cf0b7270>"
      ]
     },
     "execution_count": 2,
     "metadata": {},
     "output_type": "execute_result"
    }
   ],
   "source": [
    "con = duckdb.connect(\"hackathon.duckdb\")\n",
    "con.execute(\"\"\"INSTALL spatial;\n",
    "            LOAD spatial;\n",
    "            \"\"\")"
   ]
  },
  {
   "cell_type": "code",
   "execution_count": 3,
   "id": "63607f31",
   "metadata": {},
   "outputs": [
    {
     "data": {
      "text/plain": [
       "<duckdb.duckdb.DuckDBPyConnection at 0x222cf0b7270>"
      ]
     },
     "execution_count": 3,
     "metadata": {},
     "output_type": "execute_result"
    }
   ],
   "source": [
    "con.execute(\"CALL start_ui();\")"
   ]
  },
  {
   "cell_type": "code",
   "execution_count": 4,
   "id": "dac870fa",
   "metadata": {},
   "outputs": [
    {
     "name": "stderr",
     "output_type": "stream",
     "text": [
      "<>:1: SyntaxWarning: invalid escape sequence '\\H'\n",
      "<>:1: SyntaxWarning: invalid escape sequence '\\H'\n",
      "C:\\Users\\peers\\AppData\\Local\\Temp\\ipykernel_15908\\1451909281.py:1: SyntaxWarning: invalid escape sequence '\\H'\n",
      "  pv = \"..\\Hackathon-Daten\\Strom-Einspeiser-ExportUTF.csv\"\n"
     ]
    },
    {
     "data": {
      "text/plain": [
       "<duckdb.duckdb.DuckDBPyConnection at 0x222cf0b7270>"
      ]
     },
     "execution_count": 4,
     "metadata": {},
     "output_type": "execute_result"
    }
   ],
   "source": [
    "pv = \"..\\Hackathon-Daten\\Strom-Einspeiser-ExportUTF.csv\"\n",
    "\n",
    "con.execute(f\"CREATE TABLE pv_bestand AS SELECT * FROM read_csv('{pv}');\") #, columns = {'name': 'VARCHAR', 'age': 'INTEGER'}"
   ]
  },
  {
   "cell_type": "code",
   "execution_count": null,
   "id": "0cc8dcd1",
   "metadata": {},
   "outputs": [
    {
     "name": "stderr",
     "output_type": "stream",
     "text": [
      "<>:4: SyntaxWarning: invalid escape sequence '\\H'\n",
      "<>:6: SyntaxWarning: invalid escape sequence '\\H'\n",
      "<>:9: SyntaxWarning: invalid escape sequence '\\H'\n",
      "<>:4: SyntaxWarning: invalid escape sequence '\\H'\n",
      "<>:6: SyntaxWarning: invalid escape sequence '\\H'\n",
      "<>:9: SyntaxWarning: invalid escape sequence '\\H'\n",
      "C:\\Users\\peers\\AppData\\Local\\Temp\\ipykernel_1916\\2227519074.py:4: SyntaxWarning: invalid escape sequence '\\H'\n",
      "  (\"..\\Hackathon-Daten\\SolarMerged\\potenzial.shp\", \"Solar\"),\n",
      "C:\\Users\\peers\\AppData\\Local\\Temp\\ipykernel_1916\\2227519074.py:6: SyntaxWarning: invalid escape sequence '\\H'\n",
      "  (\"..\\Hackathon-Daten\\AlkisMerged\\gebaeudeBauwerke.shp\", \"gebaeude\")\n",
      "C:\\Users\\peers\\AppData\\Local\\Temp\\ipykernel_1916\\2227519074.py:9: SyntaxWarning: invalid escape sequence '\\H'\n",
      "  pv = \"..\\Hackathon-Daten\\Strom-Einspeiser-Export 1.csv\"\n",
      "C:\\Users\\peers\\AppData\\Local\\Temp\\ipykernel_1916\\2227519074.py:4: SyntaxWarning: invalid escape sequence '\\H'\n",
      "  (\"..\\Hackathon-Daten\\SolarMerged\\potenzial.shp\", \"Solar\"),\n",
      "C:\\Users\\peers\\AppData\\Local\\Temp\\ipykernel_1916\\2227519074.py:6: SyntaxWarning: invalid escape sequence '\\H'\n",
      "  (\"..\\Hackathon-Daten\\AlkisMerged\\gebaeudeBauwerke.shp\", \"gebaeude\")\n",
      "C:\\Users\\peers\\AppData\\Local\\Temp\\ipykernel_1916\\2227519074.py:9: SyntaxWarning: invalid escape sequence '\\H'\n",
      "  pv = \"..\\Hackathon-Daten\\Strom-Einspeiser-Export 1.csv\"\n"
     ]
    },
    {
     "ename": "InvalidInputException",
     "evalue": "Invalid Input Error: CSV Error on Line: 1\nInvalid unicode (byte sequence mismatch) detected.\n\nPossible Solution: Enable ignore errors (ignore_errors=true) to skip this row\n\n  file = ..\\Hackathon-Daten\\Strom-Einspeiser-Export 1.csv\n  delimiter = , (Auto-Detected)\n  quote = \" (Auto-Detected)\n  escape = \\0 (Auto-Detected)\n  new_line = Single-Line File (Auto-Detected)\n  header = false (Auto-Detected)\n  skip_rows = 0 (Auto-Detected)\n  comment = \\0 (Auto-Detected)\n  strict_mode = true (Auto-Detected)\n  date_format =  (Auto-Detected)\n  timestamp_format =  (Auto-Detected)\n  null_padding = 0\n  sample_size = 20480\n  ignore_errors = false\n  all_varchar = 0\n\n",
     "output_type": "error",
     "traceback": [
      "\u001b[31m---------------------------------------------------------------------------\u001b[39m",
      "\u001b[31mInvalidInputException\u001b[39m                     Traceback (most recent call last)",
      "\u001b[36mCell\u001b[39m\u001b[36m \u001b[39m\u001b[32mIn[6]\u001b[39m\u001b[32m, line 11\u001b[39m\n\u001b[32m      3\u001b[39m files = [\n\u001b[32m      4\u001b[39m     (\u001b[33m\"\u001b[39m\u001b[33m..\u001b[39m\u001b[33m\\\u001b[39m\u001b[33mHackathon-Daten\u001b[39m\u001b[33m\\\u001b[39m\u001b[33mSolarMerged\u001b[39m\u001b[33m\\\u001b[39m\u001b[33mpotenzial.shp\u001b[39m\u001b[33m\"\u001b[39m, \u001b[33m\"\u001b[39m\u001b[33mSolar\u001b[39m\u001b[33m\"\u001b[39m),\n\u001b[32m      5\u001b[39m     (\u001b[33mr\u001b[39m\u001b[33m\"\u001b[39m\u001b[33m..\u001b[39m\u001b[33m\\\u001b[39m\u001b[33mHackathon-Daten\u001b[39m\u001b[33m\\\u001b[39m\u001b[33mDatenquellen\u001b[39m\u001b[33m\\\u001b[39m\u001b[33mNexiga Daten\u001b[39m\u001b[33m\\\u001b[39m\u001b[33mnexiga_all.shp\u001b[39m\u001b[33m\"\u001b[39m, \u001b[33m\"\u001b[39m\u001b[33mNexiga\u001b[39m\u001b[33m\"\u001b[39m),\n\u001b[32m      6\u001b[39m     (\u001b[33m\"\u001b[39m\u001b[33m..\u001b[39m\u001b[33m\\\u001b[39m\u001b[33mHackathon-Daten\u001b[39m\u001b[33m\\\u001b[39m\u001b[33mAlkisMerged\u001b[39m\u001b[33m\\\u001b[39m\u001b[33mgebaeudeBauwerke.shp\u001b[39m\u001b[33m\"\u001b[39m, \u001b[33m\"\u001b[39m\u001b[33mgebaeude\u001b[39m\u001b[33m\"\u001b[39m)\n\u001b[32m      7\u001b[39m ]\n\u001b[32m      9\u001b[39m pv = \u001b[33m\"\u001b[39m\u001b[33m..\u001b[39m\u001b[33m\\\u001b[39m\u001b[33mHackathon-Daten\u001b[39m\u001b[33m\\\u001b[39m\u001b[33mStrom-Einspeiser-Export 1.csv\u001b[39m\u001b[33m\"\u001b[39m\n\u001b[32m---> \u001b[39m\u001b[32m11\u001b[39m \u001b[43mcon\u001b[49m\u001b[43m.\u001b[49m\u001b[43mexecute\u001b[49m\u001b[43m(\u001b[49m\u001b[33;43mf\u001b[39;49m\u001b[33;43m\"\u001b[39;49m\u001b[33;43mCREATE TABLE pv_bestand AS SELECT * FROM read_csv(\u001b[39;49m\u001b[33;43m'\u001b[39;49m\u001b[38;5;132;43;01m{\u001b[39;49;00m\u001b[43mpv\u001b[49m\u001b[38;5;132;43;01m}\u001b[39;49;00m\u001b[33;43m'\u001b[39;49m\u001b[33;43m);\u001b[39;49m\u001b[33;43m\"\u001b[39;49m\u001b[43m)\u001b[49m\n\u001b[32m     13\u001b[39m \u001b[38;5;28;01mfor\u001b[39;00m shp, name \u001b[38;5;129;01min\u001b[39;00m files:\n\u001b[32m     14\u001b[39m     con.execute(\u001b[33mf\u001b[39m\u001b[33m\"\"\"\u001b[39m\n\u001b[32m     15\u001b[39m \u001b[33m        CREATE TABLE \u001b[39m\u001b[38;5;132;01m{\u001b[39;00mname\u001b[38;5;132;01m}\u001b[39;00m\u001b[33m AS\u001b[39m\n\u001b[32m     16\u001b[39m \u001b[33m        SELECT * FROM ST_Read(\u001b[39m\u001b[33m'\u001b[39m\u001b[38;5;132;01m{\u001b[39;00mshp\u001b[38;5;132;01m}\u001b[39;00m\u001b[33m'\u001b[39m\u001b[33m);\u001b[39m\n\u001b[32m     17\u001b[39m \u001b[33m    \u001b[39m\u001b[33m\"\"\"\u001b[39m)\n",
      "\u001b[31mInvalidInputException\u001b[39m: Invalid Input Error: CSV Error on Line: 1\nInvalid unicode (byte sequence mismatch) detected.\n\nPossible Solution: Enable ignore errors (ignore_errors=true) to skip this row\n\n  file = ..\\Hackathon-Daten\\Strom-Einspeiser-Export 1.csv\n  delimiter = , (Auto-Detected)\n  quote = \" (Auto-Detected)\n  escape = \\0 (Auto-Detected)\n  new_line = Single-Line File (Auto-Detected)\n  header = false (Auto-Detected)\n  skip_rows = 0 (Auto-Detected)\n  comment = \\0 (Auto-Detected)\n  strict_mode = true (Auto-Detected)\n  date_format =  (Auto-Detected)\n  timestamp_format =  (Auto-Detected)\n  null_padding = 0\n  sample_size = 20480\n  ignore_errors = false\n  all_varchar = 0\n\n"
     ]
    }
   ],
   "source": [
    "#Execute once to load your files into the DuckDB\n",
    "#\n",
    "files = [\n",
    "    (\"..\\Hackathon-Daten\\SolarMerged\\potenzial.shp\", \"Solar\"),\n",
    "    (r\"..\\Hackathon-Daten\\Datenquellen\\Nexiga Daten\\nexiga_all.shp\", \"Nexiga\"),\n",
    "    (\"..\\Hackathon-Daten\\AlkisMerged\\gebaeudeBauwerke.shp\", \"gebaeude\")\n",
    "]\n",
    "\n",
    "for shp, name in files:\n",
    "    con.execute(f\"\"\"\n",
    "        CREATE TABLE {name} AS\n",
    "        SELECT * FROM ST_Read('{shp}');\n",
    "    \"\"\")\n",
    "    "
   ]
  },
  {
   "cell_type": "code",
   "execution_count": null,
   "id": "e9c6c07f",
   "metadata": {},
   "outputs": [
    {
     "data": {
      "text/plain": [
       "<duckdb.duckdb.DuckDBPyConnection at 0x241e6d35e30>"
      ]
     },
     "execution_count": 4,
     "metadata": {},
     "output_type": "execute_result"
    }
   ],
   "source": []
  },
  {
   "cell_type": "code",
   "execution_count": null,
   "id": "90a7b59f",
   "metadata": {},
   "outputs": [],
   "source": []
  }
 ],
 "metadata": {
  "kernelspec": {
   "display_name": "Python 3",
   "language": "python",
   "name": "python3"
  },
  "language_info": {
   "codemirror_mode": {
    "name": "ipython",
    "version": 3
   },
   "file_extension": ".py",
   "mimetype": "text/x-python",
   "name": "python",
   "nbconvert_exporter": "python",
   "pygments_lexer": "ipython3",
   "version": "3.12.9"
  }
 },
 "nbformat": 4,
 "nbformat_minor": 5
}
