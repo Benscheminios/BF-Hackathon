{
 "cells": [
  {
   "cell_type": "code",
   "execution_count": 24,
   "id": "3e8b5bfe",
   "metadata": {},
   "outputs": [],
   "source": [
    "import duckdb"
   ]
  },
  {
   "cell_type": "code",
   "execution_count": 25,
   "id": "ffc6ba50",
   "metadata": {},
   "outputs": [
    {
     "data": {
      "text/plain": [
       "<duckdb.duckdb.DuckDBPyConnection at 0x1ccf1a4e5b0>"
      ]
     },
     "execution_count": 25,
     "metadata": {},
     "output_type": "execute_result"
    }
   ],
   "source": [
    "con = duckdb.connect(\"hackathon.duckdb\")\n",
    "con.execute(\"\"\"INSTALL spatial;\n",
    "            LOAD spatial;\n",
    "            \"\"\")"
   ]
  },
  {
   "cell_type": "code",
   "execution_count": 26,
   "id": "63607f31",
   "metadata": {},
   "outputs": [
    {
     "data": {
      "text/plain": [
       "<duckdb.duckdb.DuckDBPyConnection at 0x1ccf1a4e5b0>"
      ]
     },
     "execution_count": 26,
     "metadata": {},
     "output_type": "execute_result"
    }
   ],
   "source": [
    "con.execute(\"CALL start_ui();\")"
   ]
  },
  {
   "cell_type": "code",
   "execution_count": null,
   "id": "dac870fa",
   "metadata": {},
   "outputs": [
    {
     "ename": "InvalidInputException",
     "evalue": "Invalid Input Error: Error when sniffing file \"..\\Hackathon-Daten\\Strom-Einspeiser-ExportUTF.csv\".\nIt was not possible to automatically detect the CSV Parsing dialect/types\nThe search space used was:\nDelimiter Candidates: ';'\nQuote/Escape Candidates: ['\"','\"'],['\"','(no escape)'],['\"',''']\nComment Candidates: '#', '\\0'\nPossible fixes:\n* Delimiter is set to ';'. Consider unsetting it.\n* Quote is set to '\"'. Consider unsetting it.\n* Escape is set to '\\'. Consider unsetting it.\n* Set comment (e.g., comment='#')\n* Set skip (skip=${n}) to skip ${n} lines at the top of the file\n* Enable ignore errors (ignore_errors=true) to ignore potential errors\n* Enable null padding (null_padding=true) to pad missing columns with NULL values\n* Check you are using the correct file compression, otherwise set it (e.g., compression = 'zstd')\n* Be sure that the maximum line size is set to an appropriate value, otherwise set it (e.g., max_line_size=10000000)\n",
     "output_type": "error",
     "traceback": [
      "\u001b[31m---------------------------------------------------------------------------\u001b[39m",
      "\u001b[31mInvalidInputException\u001b[39m                     Traceback (most recent call last)",
      "\u001b[36mCell\u001b[39m\u001b[36m \u001b[39m\u001b[32mIn[34]\u001b[39m\u001b[32m, line 3\u001b[39m\n\u001b[32m      1\u001b[39m pv = \u001b[33mr\u001b[39m\u001b[33m\"\u001b[39m\u001b[33m..\u001b[39m\u001b[33m\\\u001b[39m\u001b[33mHackathon-Daten\u001b[39m\u001b[33m\\\u001b[39m\u001b[33mStrom-Einspeiser-ExportUTF.csv\u001b[39m\u001b[33m\"\u001b[39m\n\u001b[32m----> \u001b[39m\u001b[32m3\u001b[39m \u001b[43mcon\u001b[49m\u001b[43m.\u001b[49m\u001b[43mexecute\u001b[49m\u001b[43m(\u001b[49m\u001b[33;43mf\u001b[39;49m\u001b[33;43m\"\"\"\u001b[39;49m\n\u001b[32m      4\u001b[39m \u001b[33;43m    CREATE TABLE pv_bestand AS \u001b[39;49m\n\u001b[32m      5\u001b[39m \u001b[33;43m    SELECT * FROM read_csv_auto(\u001b[39;49m\n\u001b[32m      6\u001b[39m \u001b[33;43m        \u001b[39;49m\u001b[33;43m'\u001b[39;49m\u001b[38;5;132;43;01m{\u001b[39;49;00m\u001b[43mpv\u001b[49m\u001b[38;5;132;43;01m}\u001b[39;49;00m\u001b[33;43m'\u001b[39;49m\u001b[33;43m, \u001b[39;49m\n\u001b[32m      7\u001b[39m \u001b[33;43m        delim=\u001b[39;49m\u001b[33;43m'\u001b[39;49m\u001b[33;43m;\u001b[39;49m\u001b[33;43m'\u001b[39;49m\u001b[33;43m, \u001b[39;49m\n\u001b[32m      8\u001b[39m \u001b[33;43m        quote=\u001b[39;49m\u001b[33;43m'\u001b[39;49m\u001b[33;43m\"\u001b[39;49m\u001b[33;43m'\u001b[39;49m\u001b[33;43m, \u001b[39;49m\n\u001b[32m      9\u001b[39m \u001b[33;43m        escape=\u001b[39;49m\u001b[33;43m'\u001b[39;49m\u001b[38;5;130;43;01m\\\\\u001b[39;49;00m\u001b[33;43m'\u001b[39;49m\u001b[33;43m, \u001b[39;49m\n\u001b[32m     10\u001b[39m \u001b[33;43m        header=true, \u001b[39;49m\n\u001b[32m     11\u001b[39m \u001b[33;43m        strict_mode=false\u001b[39;49m\n\u001b[32m     12\u001b[39m \u001b[33;43m    );\u001b[39;49m\n\u001b[32m     13\u001b[39m \u001b[33;43m\"\"\"\u001b[39;49m\u001b[43m)\u001b[49m \u001b[38;5;66;03m#, columns = {'name': 'VARCHAR', 'age': 'INTEGER'}\u001b[39;00m\n",
      "\u001b[31mInvalidInputException\u001b[39m: Invalid Input Error: Error when sniffing file \"..\\Hackathon-Daten\\Strom-Einspeiser-ExportUTF.csv\".\nIt was not possible to automatically detect the CSV Parsing dialect/types\nThe search space used was:\nDelimiter Candidates: ';'\nQuote/Escape Candidates: ['\"','\"'],['\"','(no escape)'],['\"',''']\nComment Candidates: '#', '\\0'\nPossible fixes:\n* Delimiter is set to ';'. Consider unsetting it.\n* Quote is set to '\"'. Consider unsetting it.\n* Escape is set to '\\'. Consider unsetting it.\n* Set comment (e.g., comment='#')\n* Set skip (skip=${n}) to skip ${n} lines at the top of the file\n* Enable ignore errors (ignore_errors=true) to ignore potential errors\n* Enable null padding (null_padding=true) to pad missing columns with NULL values\n* Check you are using the correct file compression, otherwise set it (e.g., compression = 'zstd')\n* Be sure that the maximum line size is set to an appropriate value, otherwise set it (e.g., max_line_size=10000000)\n"
     ]
    }
   ],
   "source": [
    "pv = r\"..\\Hackathon-Daten\\Strom-Einspeiser-ExportUTF.csv\"\n",
    "\n",
    "con.execute(f\"CREATE TABLE pv_bestand AS SELECT * FROM read_csv('{pv}', delim=';');\") #, columns = {'name': 'VARCHAR', 'age': 'INTEGER'}"
   ]
  },
  {
   "cell_type": "code",
   "execution_count": 29,
   "id": "0cc8dcd1",
   "metadata": {},
   "outputs": [
    {
     "name": "stderr",
     "output_type": "stream",
     "text": [
      "<>:6: SyntaxWarning: invalid escape sequence '\\H'\n",
      "<>:6: SyntaxWarning: invalid escape sequence '\\H'\n",
      "C:\\Users\\tranm\\AppData\\Local\\Temp\\ipykernel_21212\\1581817340.py:6: SyntaxWarning: invalid escape sequence '\\H'\n",
      "  (\"..\\Hackathon-Daten\\AlkisMerged\\gebaeudeBauwerke.shp\", \"gebaeude\")\n"
     ]
    }
   ],
   "source": [
    "#Execute once to load your files into the DuckDB\n",
    "#\n",
    "files = [\n",
    "    #(\"..\\Hackathon-Daten\\SolarMerged\\potenzial.shp\", \"Solar\"),\n",
    "    (r\"..\\Hackathon-Daten\\Datenquellen\\Nexiga Daten\\nexiga_all.shp\", \"Nexiga\"),\n",
    "    (\"..\\Hackathon-Daten\\AlkisMerged\\gebaeudeBauwerke.shp\", \"gebaeude\")\n",
    "]\n",
    "\n",
    "for shp, name in files:\n",
    "    con.execute(f\"\"\"\n",
    "        CREATE TABLE {name} AS\n",
    "        SELECT * FROM ST_Read('{shp}');\n",
    "    \"\"\")\n",
    "    "
   ]
  },
  {
   "cell_type": "code",
   "execution_count": null,
   "id": "e9c6c07f",
   "metadata": {},
   "outputs": [
    {
     "data": {
      "text/plain": [
       "<duckdb.duckdb.DuckDBPyConnection at 0x241e6d35e30>"
      ]
     },
     "execution_count": 4,
     "metadata": {},
     "output_type": "execute_result"
    }
   ],
   "source": []
  },
  {
   "cell_type": "code",
   "execution_count": null,
   "id": "90a7b59f",
   "metadata": {},
   "outputs": [],
   "source": []
  }
 ],
 "metadata": {
  "kernelspec": {
   "display_name": "hack",
   "language": "python",
   "name": "python3"
  },
  "language_info": {
   "codemirror_mode": {
    "name": "ipython",
    "version": 3
   },
   "file_extension": ".py",
   "mimetype": "text/x-python",
   "name": "python",
   "nbconvert_exporter": "python",
   "pygments_lexer": "ipython3",
   "version": "3.12.9"
  }
 },
 "nbformat": 4,
 "nbformat_minor": 5
}
