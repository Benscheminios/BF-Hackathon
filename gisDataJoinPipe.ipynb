{
 "cells": [
  {
   "cell_type": "code",
   "execution_count": 1,
   "id": "71f0d6e0",
   "metadata": {},
   "outputs": [],
   "source": [
    "import geopandas as gpd\n",
    "import pandas as pd"
   ]
  },
  {
   "cell_type": "code",
   "execution_count": 2,
   "id": "fe115f2f",
   "metadata": {},
   "outputs": [
    {
     "name": "stderr",
     "output_type": "stream",
     "text": [
      "<>:1: SyntaxWarning: invalid escape sequence '\\H'\n",
      "<>:3: SyntaxWarning: invalid escape sequence '\\8'\n",
      "<>:4: SyntaxWarning: invalid escape sequence '\\8'\n",
      "<>:5: SyntaxWarning: invalid escape sequence '\\8'\n",
      "<>:6: SyntaxWarning: invalid escape sequence '\\8'\n",
      "<>:1: SyntaxWarning: invalid escape sequence '\\H'\n",
      "<>:3: SyntaxWarning: invalid escape sequence '\\8'\n",
      "<>:4: SyntaxWarning: invalid escape sequence '\\8'\n",
      "<>:5: SyntaxWarning: invalid escape sequence '\\8'\n",
      "<>:6: SyntaxWarning: invalid escape sequence '\\8'\n",
      "C:\\Users\\peers\\AppData\\Local\\Temp\\ipykernel_23144\\851937309.py:1: SyntaxWarning: invalid escape sequence '\\H'\n",
      "  path_potenzial = \"..\\Hackathon-Daten\\Datenquellen\\Solarpotenzial\"\n",
      "C:\\Users\\peers\\AppData\\Local\\Temp\\ipykernel_23144\\851937309.py:3: SyntaxWarning: invalid escape sequence '\\8'\n",
      "  \"\\8311_Solarpotenzial_Dachseiten_Freiburg_Stadt\\Solarpotenziale_Dachseiten_Freiburg_Stadt.shp\",\n",
      "C:\\Users\\peers\\AppData\\Local\\Temp\\ipykernel_23144\\851937309.py:4: SyntaxWarning: invalid escape sequence '\\8'\n",
      "  \"\\8315_Solarpotenzial_Dachseiten_Breisgau_Hochschwarzwald\\Solarpotenziale_Dachseiten_LK_Breisgau_Hochschwarzwald.shp\",\n",
      "C:\\Users\\peers\\AppData\\Local\\Temp\\ipykernel_23144\\851937309.py:5: SyntaxWarning: invalid escape sequence '\\8'\n",
      "  \"\\8316_Solarpotenzial_Dachseiten_Emmendingen\\Solarpotenziale_Dachseiten_LK_Emmendingen.shp\",\n",
      "C:\\Users\\peers\\AppData\\Local\\Temp\\ipykernel_23144\\851937309.py:6: SyntaxWarning: invalid escape sequence '\\8'\n",
      "  \"\\8337_Solarpotenzial_Dachseiten_Waldshut\\Solarpotenziale_Dachseiten_LK_Waldshut.shp\"\n"
     ]
    }
   ],
   "source": [
    "path_potenzial = \"..\\Hackathon-Daten\\Datenquellen\\Solarpotenzial\"\n",
    "list_potenzial_shps = [\n",
    "    \"\\8311_Solarpotenzial_Dachseiten_Freiburg_Stadt\\Solarpotenziale_Dachseiten_Freiburg_Stadt.shp\",\n",
    "    \"\\8315_Solarpotenzial_Dachseiten_Breisgau_Hochschwarzwald\\Solarpotenziale_Dachseiten_LK_Breisgau_Hochschwarzwald.shp\",\n",
    "    \"\\8316_Solarpotenzial_Dachseiten_Emmendingen\\Solarpotenziale_Dachseiten_LK_Emmendingen.shp\",\n",
    "    \"\\8337_Solarpotenzial_Dachseiten_Waldshut\\Solarpotenziale_Dachseiten_LK_Waldshut.shp\"\n",
    "]\n",
    "\n",
    "gdf_potenzial = gpd.GeoDataFrame()\n",
    "for shp in list_potenzial_shps:\n",
    "    gdf_temp = gpd.read_file(path_potenzial + shp)\n",
    "    gdf_potenzial = pd.concat([gdf_potenzial, gdf_temp])"
   ]
  },
  {
   "cell_type": "code",
   "execution_count": 6,
   "id": "5a4d65bd",
   "metadata": {},
   "outputs": [],
   "source": [
    "with open('test.geojson', 'w') as f:\n",
    "    f.write(gdf_potenzial.to_json())"
   ]
  },
  {
   "cell_type": "code",
   "execution_count": 9,
   "id": "b4cc7cdd",
   "metadata": {},
   "outputs": [
    {
     "data": {
      "text/plain": [
       "(757244, 34)"
      ]
     },
     "execution_count": 9,
     "metadata": {},
     "output_type": "execute_result"
    }
   ],
   "source": [
    "gdf_potenzial.shape"
   ]
  }
 ],
 "metadata": {
  "kernelspec": {
   "display_name": "Python 3",
   "language": "python",
   "name": "python3"
  },
  "language_info": {
   "codemirror_mode": {
    "name": "ipython",
    "version": 3
   },
   "file_extension": ".py",
   "mimetype": "text/x-python",
   "name": "python",
   "nbconvert_exporter": "python",
   "pygments_lexer": "ipython3",
   "version": "3.12.9"
  }
 },
 "nbformat": 4,
 "nbformat_minor": 5
}
