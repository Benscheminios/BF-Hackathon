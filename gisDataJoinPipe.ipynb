{
 "cells": [
  {
   "cell_type": "code",
   "execution_count": null,
   "id": "71f0d6e0",
   "metadata": {},
   "outputs": [],
   "source": [
    "import geopandas as gpd\n",
    "import pandas as pd"
   ]
  },
  {
   "cell_type": "code",
<<<<<<< HEAD
   "execution_count": null,
   "id": "fe115f2f",
   "metadata": {},
   "outputs": [],
=======
   "execution_count": 2,
   "id": "fe115f2f",
   "metadata": {},
   "outputs": [
    {
     "name": "stderr",
     "output_type": "stream",
     "text": [
      "<>:1: SyntaxWarning: invalid escape sequence '\\H'\n",
      "<>:3: SyntaxWarning: invalid escape sequence '\\8'\n",
      "<>:4: SyntaxWarning: invalid escape sequence '\\8'\n",
      "<>:5: SyntaxWarning: invalid escape sequence '\\8'\n",
      "<>:6: SyntaxWarning: invalid escape sequence '\\8'\n",
      "<>:1: SyntaxWarning: invalid escape sequence '\\H'\n",
      "<>:3: SyntaxWarning: invalid escape sequence '\\8'\n",
      "<>:4: SyntaxWarning: invalid escape sequence '\\8'\n",
      "<>:5: SyntaxWarning: invalid escape sequence '\\8'\n",
      "<>:6: SyntaxWarning: invalid escape sequence '\\8'\n",
      "C:\\Users\\peers\\AppData\\Local\\Temp\\ipykernel_23144\\851937309.py:1: SyntaxWarning: invalid escape sequence '\\H'\n",
      "  path_potenzial = \"..\\Hackathon-Daten\\Datenquellen\\Solarpotenzial\"\n",
      "C:\\Users\\peers\\AppData\\Local\\Temp\\ipykernel_23144\\851937309.py:3: SyntaxWarning: invalid escape sequence '\\8'\n",
      "  \"\\8311_Solarpotenzial_Dachseiten_Freiburg_Stadt\\Solarpotenziale_Dachseiten_Freiburg_Stadt.shp\",\n",
      "C:\\Users\\peers\\AppData\\Local\\Temp\\ipykernel_23144\\851937309.py:4: SyntaxWarning: invalid escape sequence '\\8'\n",
      "  \"\\8315_Solarpotenzial_Dachseiten_Breisgau_Hochschwarzwald\\Solarpotenziale_Dachseiten_LK_Breisgau_Hochschwarzwald.shp\",\n",
      "C:\\Users\\peers\\AppData\\Local\\Temp\\ipykernel_23144\\851937309.py:5: SyntaxWarning: invalid escape sequence '\\8'\n",
      "  \"\\8316_Solarpotenzial_Dachseiten_Emmendingen\\Solarpotenziale_Dachseiten_LK_Emmendingen.shp\",\n",
      "C:\\Users\\peers\\AppData\\Local\\Temp\\ipykernel_23144\\851937309.py:6: SyntaxWarning: invalid escape sequence '\\8'\n",
      "  \"\\8337_Solarpotenzial_Dachseiten_Waldshut\\Solarpotenziale_Dachseiten_LK_Waldshut.shp\"\n"
     ]
    }
   ],
>>>>>>> parent of 5895402 (Modified Notebooks)
   "source": [
    "path_potenzial = \"..\\Hackathon-Daten\\Datenquellen\\Solarpotenzial\"\n",
    "list_potenzial_shps = [\n",
    "    \"\\8311_Solarpotenzial_Dachseiten_Freiburg_Stadt\\Solarpotenziale_Dachseiten_Freiburg_Stadt.shp\",\n",
    "    \"\\8315_Solarpotenzial_Dachseiten_Breisgau_Hochschwarzwald\\Solarpotenziale_Dachseiten_LK_Breisgau_Hochschwarzwald.shp\",\n",
    "    \"\\8316_Solarpotenzial_Dachseiten_Emmendingen\\Solarpotenziale_Dachseiten_LK_Emmendingen.shp\",\n",
    "    \"\\8337_Solarpotenzial_Dachseiten_Waldshut\\Solarpotenziale_Dachseiten_LK_Waldshut.shp\"\n",
    "]\n",
    "\n",
    "gdf_potenzial = gpd.GeoDataFrame()\n",
    "for shp in list_potenzial_shps:\n",
    "    gdf_temp = gpd.read_file(path_potenzial + shp)\n",
    "    gdf_potenzial = pd.concat([gdf_potenzial, gdf_temp])"
   ]
  },
  {
   "cell_type": "code",
<<<<<<< HEAD
   "execution_count": null,
   "id": "d5b986ea",
   "metadata": {},
   "outputs": [],
   "source": [
    "import geopandas as gpd\n",
    "import os\n",
    "from collections import defaultdict\n",
    "import pandas as pd\n",
    "from pathlib import Path\n",
    "\n",
    "# Path to root directory containing all subfolders\n",
    "root_dir = \"..\\Hackathon-Daten\\Datenquellen\\ALKIS\"\n",
    "\n",
    "# Dictionary to hold grouped shapefiles\n",
    "shp_groups = defaultdict(list)\n",
    "\n",
    "# Recursively find all .shp files\n",
    "for filepath in Path(root_dir).rglob(\"*.shp\"):\n",
    "    name = filepath.name  # e.g. 'land_use.shp'\n",
    "    shp_groups[name].append(filepath)\n",
    "\n",
    "# Dictionary of merged GeoDataFrames\n",
    "merged_layers = {}\n",
    "\n",
    "for layer_name, file_list in shp_groups.items():\n",
    "    gdfs = []\n",
    "    for shp_path in file_list:\n",
    "        try:\n",
    "            gdf = gpd.read_file(shp_path)\n",
    "            gdfs.append(gdf)\n",
    "        except Exception as e:\n",
    "            print(f\"Failed to read {shp_path}: {e}\")\n",
    "    \n",
    "    # Ensure all are in same CRS\n",
    "    base_crs = gdfs[0].crs\n",
    "    gdfs = [gdf.to_crs(base_crs) for gdf in gdfs]\n",
    "    \n",
    "    # Merge all files of this layer type\n",
    "    merged_gdf = gpd.GeoDataFrame(pd.concat(gdfs, ignore_index=True), crs=base_crs)\n",
    "    merged_layers[layer_name] = merged_gdf\n",
    "\n",
    "    print(f\"✅ Merged {len(file_list)} files into layer: {layer_name}\")\n",
    "    \n",
    "\n",
    "    \n"
   ]
  },
  {
   "cell_type": "code",
   "execution_count": null,
   "id": "8a7241c4",
   "metadata": {},
   "outputs": [],
   "source": [
    "for name in merged_layers.keys():\n",
    "    merged_layers[name].to_file(name)"
   ]
  },
  {
   "cell_type": "code",
   "execution_count": null,
   "id": "5db5c465",
=======
   "execution_count": 6,
   "id": "5a4d65bd",
>>>>>>> parent of 5895402 (Modified Notebooks)
   "metadata": {},
   "outputs": [],
   "source": [
    "with open('test.geojson', 'w') as f:\n",
    "    f.write(gdf_potenzial.to_json())"
   ]
  },
  {
   "cell_type": "code",
   "execution_count": 9,
   "id": "b4cc7cdd",
   "metadata": {},
   "outputs": [
    {
     "data": {
      "text/plain": [
       "(757244, 34)"
      ]
     },
     "execution_count": 9,
     "metadata": {},
     "output_type": "execute_result"
    }
   ],
   "source": [
    "gdf_potenzial.shape"
   ]
  }
 ],
 "metadata": {
  "kernelspec": {
   "display_name": "Python 3",
   "language": "python",
   "name": "python3"
  },
  "language_info": {
   "codemirror_mode": {
    "name": "ipython",
    "version": 3
   },
   "file_extension": ".py",
   "mimetype": "text/x-python",
   "name": "python",
   "nbconvert_exporter": "python",
   "pygments_lexer": "ipython3",
   "version": "3.12.9"
  }
 },
 "nbformat": 4,
 "nbformat_minor": 5
}
